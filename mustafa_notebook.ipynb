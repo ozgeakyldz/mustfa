{
 "cells": [
  {
   "cell_type": "code",
   "execution_count": 126,
   "id": "e085c1b7-a045-4b0f-a15a-a5a17122bf85",
   "metadata": {},
   "outputs": [],
   "source": [
    "import pandas as pd\n",
    "import numpy as np"
   ]
  },
  {
   "cell_type": "code",
   "execution_count": 196,
   "id": "2d235916-46ec-44d0-ac40-6eaac4548b51",
   "metadata": {},
   "outputs": [],
   "source": [
    "from IPython.core.interactiveshell import InteractiveShell\n",
    "InteractiveShell.ast_node_interactivity='all'"
   ]
  },
  {
   "cell_type": "code",
   "execution_count": 132,
   "id": "c4bf3ff6-168f-4b51-8ed6-ddd6d19f26bc",
   "metadata": {},
   "outputs": [
    {
     "data": {
      "text/html": [
       "<div>\n",
       "<style scoped>\n",
       "    .dataframe tbody tr th:only-of-type {\n",
       "        vertical-align: middle;\n",
       "    }\n",
       "\n",
       "    .dataframe tbody tr th {\n",
       "        vertical-align: top;\n",
       "    }\n",
       "\n",
       "    .dataframe thead th {\n",
       "        text-align: right;\n",
       "    }\n",
       "</style>\n",
       "<table border=\"1\" class=\"dataframe\">\n",
       "  <thead>\n",
       "    <tr style=\"text-align: right;\">\n",
       "      <th></th>\n",
       "      <th>Reagent 1, g/t</th>\n",
       "      <th>Reagent 2, g/t</th>\n",
       "      <th>Reagent 3, g/t</th>\n",
       "      <th>Time</th>\n",
       "      <th>Recovery</th>\n",
       "      <th>Kinetic of Cu, s^-2</th>\n",
       "      <th>Selectivity Index 1</th>\n",
       "      <th>Selectivity Index 2</th>\n",
       "    </tr>\n",
       "  </thead>\n",
       "  <tbody>\n",
       "    <tr>\n",
       "      <th>0</th>\n",
       "      <td>20</td>\n",
       "      <td>10</td>\n",
       "      <td>10</td>\n",
       "      <td>1</td>\n",
       "      <td>54.926772</td>\n",
       "      <td>0.016421</td>\n",
       "      <td>23.748974</td>\n",
       "      <td>67.162267</td>\n",
       "    </tr>\n",
       "    <tr>\n",
       "      <th>1</th>\n",
       "      <td>30</td>\n",
       "      <td>5</td>\n",
       "      <td>15</td>\n",
       "      <td>1</td>\n",
       "      <td>57.495306</td>\n",
       "      <td>0.018548</td>\n",
       "      <td>30.805883</td>\n",
       "      <td>68.546097</td>\n",
       "    </tr>\n",
       "    <tr>\n",
       "      <th>2</th>\n",
       "      <td>20</td>\n",
       "      <td>10</td>\n",
       "      <td>10</td>\n",
       "      <td>1</td>\n",
       "      <td>53.593386</td>\n",
       "      <td>0.016135</td>\n",
       "      <td>17.494309</td>\n",
       "      <td>69.051620</td>\n",
       "    </tr>\n",
       "    <tr>\n",
       "      <th>3</th>\n",
       "      <td>20</td>\n",
       "      <td>10</td>\n",
       "      <td>10</td>\n",
       "      <td>1</td>\n",
       "      <td>52.849863</td>\n",
       "      <td>0.014153</td>\n",
       "      <td>20.847239</td>\n",
       "      <td>66.952455</td>\n",
       "    </tr>\n",
       "    <tr>\n",
       "      <th>4</th>\n",
       "      <td>30</td>\n",
       "      <td>15</td>\n",
       "      <td>5</td>\n",
       "      <td>1</td>\n",
       "      <td>57.261053</td>\n",
       "      <td>0.018273</td>\n",
       "      <td>31.597608</td>\n",
       "      <td>69.764985</td>\n",
       "    </tr>\n",
       "    <tr>\n",
       "      <th>...</th>\n",
       "      <td>...</td>\n",
       "      <td>...</td>\n",
       "      <td>...</td>\n",
       "      <td>...</td>\n",
       "      <td>...</td>\n",
       "      <td>...</td>\n",
       "      <td>...</td>\n",
       "      <td>...</td>\n",
       "    </tr>\n",
       "    <tr>\n",
       "      <th>160</th>\n",
       "      <td>0</td>\n",
       "      <td>120</td>\n",
       "      <td>0</td>\n",
       "      <td>30</td>\n",
       "      <td>91.829365</td>\n",
       "      <td>NaN</td>\n",
       "      <td>NaN</td>\n",
       "      <td>NaN</td>\n",
       "    </tr>\n",
       "    <tr>\n",
       "      <th>161</th>\n",
       "      <td>0</td>\n",
       "      <td>0</td>\n",
       "      <td>10</td>\n",
       "      <td>30</td>\n",
       "      <td>72.501935</td>\n",
       "      <td>NaN</td>\n",
       "      <td>NaN</td>\n",
       "      <td>NaN</td>\n",
       "    </tr>\n",
       "    <tr>\n",
       "      <th>162</th>\n",
       "      <td>0</td>\n",
       "      <td>0</td>\n",
       "      <td>20</td>\n",
       "      <td>30</td>\n",
       "      <td>79.453185</td>\n",
       "      <td>NaN</td>\n",
       "      <td>NaN</td>\n",
       "      <td>NaN</td>\n",
       "    </tr>\n",
       "    <tr>\n",
       "      <th>163</th>\n",
       "      <td>0</td>\n",
       "      <td>0</td>\n",
       "      <td>40</td>\n",
       "      <td>30</td>\n",
       "      <td>87.833249</td>\n",
       "      <td>NaN</td>\n",
       "      <td>NaN</td>\n",
       "      <td>NaN</td>\n",
       "    </tr>\n",
       "    <tr>\n",
       "      <th>164</th>\n",
       "      <td>0</td>\n",
       "      <td>0</td>\n",
       "      <td>120</td>\n",
       "      <td>30</td>\n",
       "      <td>90.391584</td>\n",
       "      <td>NaN</td>\n",
       "      <td>NaN</td>\n",
       "      <td>NaN</td>\n",
       "    </tr>\n",
       "  </tbody>\n",
       "</table>\n",
       "<p>165 rows × 8 columns</p>\n",
       "</div>"
      ],
      "text/plain": [
       "     Reagent 1, g/t  Reagent 2, g/t  Reagent 3, g/t  Time   Recovery  \\\n",
       "0                20              10              10     1  54.926772   \n",
       "1                30               5              15     1  57.495306   \n",
       "2                20              10              10     1  53.593386   \n",
       "3                20              10              10     1  52.849863   \n",
       "4                30              15               5     1  57.261053   \n",
       "..              ...             ...             ...   ...        ...   \n",
       "160               0             120               0    30  91.829365   \n",
       "161               0               0              10    30  72.501935   \n",
       "162               0               0              20    30  79.453185   \n",
       "163               0               0              40    30  87.833249   \n",
       "164               0               0             120    30  90.391584   \n",
       "\n",
       "     Kinetic of Cu, s^-2  Selectivity Index 1  Selectivity Index 2  \n",
       "0               0.016421            23.748974            67.162267  \n",
       "1               0.018548            30.805883            68.546097  \n",
       "2               0.016135            17.494309            69.051620  \n",
       "3               0.014153            20.847239            66.952455  \n",
       "4               0.018273            31.597608            69.764985  \n",
       "..                   ...                  ...                  ...  \n",
       "160                  NaN                  NaN                  NaN  \n",
       "161                  NaN                  NaN                  NaN  \n",
       "162                  NaN                  NaN                  NaN  \n",
       "163                  NaN                  NaN                  NaN  \n",
       "164                  NaN                  NaN                  NaN  \n",
       "\n",
       "[165 rows x 8 columns]"
      ]
     },
     "execution_count": 132,
     "metadata": {},
     "output_type": "execute_result"
    }
   ],
   "source": [
    "### VERIMIZI OKUTALIM\n",
    "data= pd.read_excel('Mustafa.xlsx', header=1)\n",
    "data"
   ]
  },
  {
   "cell_type": "code",
   "execution_count": 133,
   "id": "0cf844ec-be80-4bd8-b92c-861b26b06072",
   "metadata": {},
   "outputs": [
    {
     "data": {
      "text/html": [
       "<div>\n",
       "<style scoped>\n",
       "    .dataframe tbody tr th:only-of-type {\n",
       "        vertical-align: middle;\n",
       "    }\n",
       "\n",
       "    .dataframe tbody tr th {\n",
       "        vertical-align: top;\n",
       "    }\n",
       "\n",
       "    .dataframe thead th {\n",
       "        text-align: right;\n",
       "    }\n",
       "</style>\n",
       "<table border=\"1\" class=\"dataframe\">\n",
       "  <thead>\n",
       "    <tr style=\"text-align: right;\">\n",
       "      <th></th>\n",
       "      <th>Reagent 1, g/t</th>\n",
       "      <th>Reagent 2, g/t</th>\n",
       "      <th>Reagent 3, g/t</th>\n",
       "      <th>Time</th>\n",
       "      <th>Recovery</th>\n",
       "      <th>Kinetic of Cu, s^-2</th>\n",
       "      <th>Selectivity Index 1</th>\n",
       "      <th>Selectivity Index 2</th>\n",
       "    </tr>\n",
       "  </thead>\n",
       "  <tbody>\n",
       "    <tr>\n",
       "      <th>count</th>\n",
       "      <td>165.000000</td>\n",
       "      <td>165.000000</td>\n",
       "      <td>165.000000</td>\n",
       "      <td>165.000000</td>\n",
       "      <td>165.000000</td>\n",
       "      <td>33.000000</td>\n",
       "      <td>33.000000</td>\n",
       "      <td>33.000000</td>\n",
       "    </tr>\n",
       "    <tr>\n",
       "      <th>mean</th>\n",
       "      <td>17.878788</td>\n",
       "      <td>11.818182</td>\n",
       "      <td>11.818182</td>\n",
       "      <td>11.200000</td>\n",
       "      <td>72.225945</td>\n",
       "      <td>0.014824</td>\n",
       "      <td>20.228922</td>\n",
       "      <td>62.114021</td>\n",
       "    </tr>\n",
       "    <tr>\n",
       "      <th>std</th>\n",
       "      <td>21.774562</td>\n",
       "      <td>20.873391</td>\n",
       "      <td>20.873391</td>\n",
       "      <td>10.584849</td>\n",
       "      <td>17.021024</td>\n",
       "      <td>0.004347</td>\n",
       "      <td>7.009948</td>\n",
       "      <td>10.842535</td>\n",
       "    </tr>\n",
       "    <tr>\n",
       "      <th>min</th>\n",
       "      <td>0.000000</td>\n",
       "      <td>0.000000</td>\n",
       "      <td>0.000000</td>\n",
       "      <td>1.000000</td>\n",
       "      <td>8.666470</td>\n",
       "      <td>0.003762</td>\n",
       "      <td>4.576637</td>\n",
       "      <td>11.263470</td>\n",
       "    </tr>\n",
       "    <tr>\n",
       "      <th>25%</th>\n",
       "      <td>0.000000</td>\n",
       "      <td>0.000000</td>\n",
       "      <td>0.000000</td>\n",
       "      <td>3.000000</td>\n",
       "      <td>59.977493</td>\n",
       "      <td>0.014153</td>\n",
       "      <td>15.500926</td>\n",
       "      <td>62.463508</td>\n",
       "    </tr>\n",
       "    <tr>\n",
       "      <th>50%</th>\n",
       "      <td>20.000000</td>\n",
       "      <td>10.000000</td>\n",
       "      <td>10.000000</td>\n",
       "      <td>7.000000</td>\n",
       "      <td>77.520977</td>\n",
       "      <td>0.015933</td>\n",
       "      <td>20.847239</td>\n",
       "      <td>66.096010</td>\n",
       "    </tr>\n",
       "    <tr>\n",
       "      <th>75%</th>\n",
       "      <td>20.000000</td>\n",
       "      <td>10.000000</td>\n",
       "      <td>10.000000</td>\n",
       "      <td>15.000000</td>\n",
       "      <td>85.923642</td>\n",
       "      <td>0.017918</td>\n",
       "      <td>25.507883</td>\n",
       "      <td>67.085308</td>\n",
       "    </tr>\n",
       "    <tr>\n",
       "      <th>max</th>\n",
       "      <td>120.000000</td>\n",
       "      <td>120.000000</td>\n",
       "      <td>120.000000</td>\n",
       "      <td>30.000000</td>\n",
       "      <td>91.853888</td>\n",
       "      <td>0.021335</td>\n",
       "      <td>31.597608</td>\n",
       "      <td>69.764985</td>\n",
       "    </tr>\n",
       "  </tbody>\n",
       "</table>\n",
       "</div>"
      ],
      "text/plain": [
       "       Reagent 1, g/t  Reagent 2, g/t  Reagent 3, g/t        Time    Recovery  \\\n",
       "count      165.000000      165.000000      165.000000  165.000000  165.000000   \n",
       "mean        17.878788       11.818182       11.818182   11.200000   72.225945   \n",
       "std         21.774562       20.873391       20.873391   10.584849   17.021024   \n",
       "min          0.000000        0.000000        0.000000    1.000000    8.666470   \n",
       "25%          0.000000        0.000000        0.000000    3.000000   59.977493   \n",
       "50%         20.000000       10.000000       10.000000    7.000000   77.520977   \n",
       "75%         20.000000       10.000000       10.000000   15.000000   85.923642   \n",
       "max        120.000000      120.000000      120.000000   30.000000   91.853888   \n",
       "\n",
       "       Kinetic of Cu, s^-2  Selectivity Index 1  Selectivity Index 2  \n",
       "count            33.000000            33.000000            33.000000  \n",
       "mean              0.014824            20.228922            62.114021  \n",
       "std               0.004347             7.009948            10.842535  \n",
       "min               0.003762             4.576637            11.263470  \n",
       "25%               0.014153            15.500926            62.463508  \n",
       "50%               0.015933            20.847239            66.096010  \n",
       "75%               0.017918            25.507883            67.085308  \n",
       "max               0.021335            31.597608            69.764985  "
      ]
     },
     "execution_count": 133,
     "metadata": {},
     "output_type": "execute_result"
    }
   ],
   "source": [
    "### VERIMIZIN TANIMLAYICI ISTATISTIK BILGISINI GORELIM\n",
    "data.describe()"
   ]
  },
  {
   "cell_type": "code",
   "execution_count": 134,
   "id": "9ad63437-32db-419c-926c-a79d7a019fba",
   "metadata": {},
   "outputs": [
    {
     "data": {
      "text/html": [
       "<div>\n",
       "<style scoped>\n",
       "    .dataframe tbody tr th:only-of-type {\n",
       "        vertical-align: middle;\n",
       "    }\n",
       "\n",
       "    .dataframe tbody tr th {\n",
       "        vertical-align: top;\n",
       "    }\n",
       "\n",
       "    .dataframe thead th {\n",
       "        text-align: right;\n",
       "    }\n",
       "</style>\n",
       "<table border=\"1\" class=\"dataframe\">\n",
       "  <thead>\n",
       "    <tr style=\"text-align: right;\">\n",
       "      <th></th>\n",
       "      <th>Reagent 1, g/t</th>\n",
       "      <th>Reagent 2, g/t</th>\n",
       "      <th>Reagent 3, g/t</th>\n",
       "      <th>Time</th>\n",
       "      <th>Recovery</th>\n",
       "      <th>Kinetic of Cu, s^-2</th>\n",
       "      <th>Selectivity Index 1</th>\n",
       "      <th>Selectivity Index 2</th>\n",
       "    </tr>\n",
       "  </thead>\n",
       "  <tbody>\n",
       "    <tr>\n",
       "      <th>Reagent 1, g/t</th>\n",
       "      <td>1.000000e+00</td>\n",
       "      <td>-1.994063e-01</td>\n",
       "      <td>-1.994063e-01</td>\n",
       "      <td>2.406147e-16</td>\n",
       "      <td>0.174419</td>\n",
       "      <td>0.267078</td>\n",
       "      <td>0.341704</td>\n",
       "      <td>0.212597</td>\n",
       "    </tr>\n",
       "    <tr>\n",
       "      <th>Reagent 2, g/t</th>\n",
       "      <td>-1.994063e-01</td>\n",
       "      <td>1.000000e+00</td>\n",
       "      <td>-1.825700e-01</td>\n",
       "      <td>2.980659e-17</td>\n",
       "      <td>0.144733</td>\n",
       "      <td>0.229167</td>\n",
       "      <td>0.086050</td>\n",
       "      <td>0.124014</td>\n",
       "    </tr>\n",
       "    <tr>\n",
       "      <th>Reagent 3, g/t</th>\n",
       "      <td>-1.994063e-01</td>\n",
       "      <td>-1.825700e-01</td>\n",
       "      <td>1.000000e+00</td>\n",
       "      <td>-8.785100e-17</td>\n",
       "      <td>0.108510</td>\n",
       "      <td>0.284801</td>\n",
       "      <td>0.130459</td>\n",
       "      <td>0.189162</td>\n",
       "    </tr>\n",
       "    <tr>\n",
       "      <th>Time</th>\n",
       "      <td>2.406147e-16</td>\n",
       "      <td>2.980659e-17</td>\n",
       "      <td>-8.785100e-17</td>\n",
       "      <td>1.000000e+00</td>\n",
       "      <td>0.641643</td>\n",
       "      <td>NaN</td>\n",
       "      <td>NaN</td>\n",
       "      <td>NaN</td>\n",
       "    </tr>\n",
       "    <tr>\n",
       "      <th>Recovery</th>\n",
       "      <td>1.744187e-01</td>\n",
       "      <td>1.447334e-01</td>\n",
       "      <td>1.085099e-01</td>\n",
       "      <td>6.416434e-01</td>\n",
       "      <td>1.000000</td>\n",
       "      <td>0.953063</td>\n",
       "      <td>0.756342</td>\n",
       "      <td>0.901209</td>\n",
       "    </tr>\n",
       "    <tr>\n",
       "      <th>Kinetic of Cu, s^-2</th>\n",
       "      <td>2.670783e-01</td>\n",
       "      <td>2.291673e-01</td>\n",
       "      <td>2.848014e-01</td>\n",
       "      <td>NaN</td>\n",
       "      <td>0.953063</td>\n",
       "      <td>1.000000</td>\n",
       "      <td>0.769755</td>\n",
       "      <td>0.779348</td>\n",
       "    </tr>\n",
       "    <tr>\n",
       "      <th>Selectivity Index 1</th>\n",
       "      <td>3.417042e-01</td>\n",
       "      <td>8.604971e-02</td>\n",
       "      <td>1.304586e-01</td>\n",
       "      <td>NaN</td>\n",
       "      <td>0.756342</td>\n",
       "      <td>0.769755</td>\n",
       "      <td>1.000000</td>\n",
       "      <td>0.671444</td>\n",
       "    </tr>\n",
       "    <tr>\n",
       "      <th>Selectivity Index 2</th>\n",
       "      <td>2.125968e-01</td>\n",
       "      <td>1.240136e-01</td>\n",
       "      <td>1.891616e-01</td>\n",
       "      <td>NaN</td>\n",
       "      <td>0.901209</td>\n",
       "      <td>0.779348</td>\n",
       "      <td>0.671444</td>\n",
       "      <td>1.000000</td>\n",
       "    </tr>\n",
       "  </tbody>\n",
       "</table>\n",
       "</div>"
      ],
      "text/plain": [
       "                     Reagent 1, g/t  Reagent 2, g/t  Reagent 3, g/t  \\\n",
       "Reagent 1, g/t         1.000000e+00   -1.994063e-01   -1.994063e-01   \n",
       "Reagent 2, g/t        -1.994063e-01    1.000000e+00   -1.825700e-01   \n",
       "Reagent 3, g/t        -1.994063e-01   -1.825700e-01    1.000000e+00   \n",
       "Time                   2.406147e-16    2.980659e-17   -8.785100e-17   \n",
       "Recovery               1.744187e-01    1.447334e-01    1.085099e-01   \n",
       "Kinetic of Cu, s^-2    2.670783e-01    2.291673e-01    2.848014e-01   \n",
       "Selectivity Index 1    3.417042e-01    8.604971e-02    1.304586e-01   \n",
       "Selectivity Index 2    2.125968e-01    1.240136e-01    1.891616e-01   \n",
       "\n",
       "                             Time  Recovery  Kinetic of Cu, s^-2  \\\n",
       "Reagent 1, g/t       2.406147e-16  0.174419             0.267078   \n",
       "Reagent 2, g/t       2.980659e-17  0.144733             0.229167   \n",
       "Reagent 3, g/t      -8.785100e-17  0.108510             0.284801   \n",
       "Time                 1.000000e+00  0.641643                  NaN   \n",
       "Recovery             6.416434e-01  1.000000             0.953063   \n",
       "Kinetic of Cu, s^-2           NaN  0.953063             1.000000   \n",
       "Selectivity Index 1           NaN  0.756342             0.769755   \n",
       "Selectivity Index 2           NaN  0.901209             0.779348   \n",
       "\n",
       "                     Selectivity Index 1  Selectivity Index 2  \n",
       "Reagent 1, g/t                  0.341704             0.212597  \n",
       "Reagent 2, g/t                  0.086050             0.124014  \n",
       "Reagent 3, g/t                  0.130459             0.189162  \n",
       "Time                                 NaN                  NaN  \n",
       "Recovery                        0.756342             0.901209  \n",
       "Kinetic of Cu, s^-2             0.769755             0.779348  \n",
       "Selectivity Index 1             1.000000             0.671444  \n",
       "Selectivity Index 2             0.671444             1.000000  "
      ]
     },
     "execution_count": 134,
     "metadata": {},
     "output_type": "execute_result"
    }
   ],
   "source": [
    "### VERIMIZDE BULUNAN DEGISKENLERIN BIRBIRIYLE ILISKISINE (CORRELATION) BAKALIM\n",
    "data.corr()"
   ]
  },
  {
   "cell_type": "code",
   "execution_count": 267,
   "id": "efcdafd5-36b1-485e-bc7d-8084d880506a",
   "metadata": {},
   "outputs": [
    {
     "data": {
      "text/html": [
       "<div>\n",
       "<style scoped>\n",
       "    .dataframe tbody tr th:only-of-type {\n",
       "        vertical-align: middle;\n",
       "    }\n",
       "\n",
       "    .dataframe tbody tr th {\n",
       "        vertical-align: top;\n",
       "    }\n",
       "\n",
       "    .dataframe thead th {\n",
       "        text-align: right;\n",
       "    }\n",
       "</style>\n",
       "<table border=\"1\" class=\"dataframe\">\n",
       "  <thead>\n",
       "    <tr style=\"text-align: right;\">\n",
       "      <th></th>\n",
       "      <th>Reagent 1, g/t</th>\n",
       "      <th>Reagent 2, g/t</th>\n",
       "      <th>Reagent 3, g/t</th>\n",
       "      <th>Time</th>\n",
       "    </tr>\n",
       "  </thead>\n",
       "  <tbody>\n",
       "    <tr>\n",
       "      <th>0</th>\n",
       "      <td>20</td>\n",
       "      <td>10</td>\n",
       "      <td>10</td>\n",
       "      <td>1</td>\n",
       "    </tr>\n",
       "    <tr>\n",
       "      <th>1</th>\n",
       "      <td>30</td>\n",
       "      <td>5</td>\n",
       "      <td>15</td>\n",
       "      <td>1</td>\n",
       "    </tr>\n",
       "    <tr>\n",
       "      <th>2</th>\n",
       "      <td>20</td>\n",
       "      <td>10</td>\n",
       "      <td>10</td>\n",
       "      <td>1</td>\n",
       "    </tr>\n",
       "    <tr>\n",
       "      <th>3</th>\n",
       "      <td>20</td>\n",
       "      <td>10</td>\n",
       "      <td>10</td>\n",
       "      <td>1</td>\n",
       "    </tr>\n",
       "    <tr>\n",
       "      <th>4</th>\n",
       "      <td>30</td>\n",
       "      <td>15</td>\n",
       "      <td>5</td>\n",
       "      <td>1</td>\n",
       "    </tr>\n",
       "    <tr>\n",
       "      <th>...</th>\n",
       "      <td>...</td>\n",
       "      <td>...</td>\n",
       "      <td>...</td>\n",
       "      <td>...</td>\n",
       "    </tr>\n",
       "    <tr>\n",
       "      <th>160</th>\n",
       "      <td>0</td>\n",
       "      <td>120</td>\n",
       "      <td>0</td>\n",
       "      <td>30</td>\n",
       "    </tr>\n",
       "    <tr>\n",
       "      <th>161</th>\n",
       "      <td>0</td>\n",
       "      <td>0</td>\n",
       "      <td>10</td>\n",
       "      <td>30</td>\n",
       "    </tr>\n",
       "    <tr>\n",
       "      <th>162</th>\n",
       "      <td>0</td>\n",
       "      <td>0</td>\n",
       "      <td>20</td>\n",
       "      <td>30</td>\n",
       "    </tr>\n",
       "    <tr>\n",
       "      <th>163</th>\n",
       "      <td>0</td>\n",
       "      <td>0</td>\n",
       "      <td>40</td>\n",
       "      <td>30</td>\n",
       "    </tr>\n",
       "    <tr>\n",
       "      <th>164</th>\n",
       "      <td>0</td>\n",
       "      <td>0</td>\n",
       "      <td>120</td>\n",
       "      <td>30</td>\n",
       "    </tr>\n",
       "  </tbody>\n",
       "</table>\n",
       "<p>165 rows × 4 columns</p>\n",
       "</div>"
      ],
      "text/plain": [
       "     Reagent 1, g/t  Reagent 2, g/t  Reagent 3, g/t  Time\n",
       "0                20              10              10     1\n",
       "1                30               5              15     1\n",
       "2                20              10              10     1\n",
       "3                20              10              10     1\n",
       "4                30              15               5     1\n",
       "..              ...             ...             ...   ...\n",
       "160               0             120               0    30\n",
       "161               0               0              10    30\n",
       "162               0               0              20    30\n",
       "163               0               0              40    30\n",
       "164               0               0             120    30\n",
       "\n",
       "[165 rows x 4 columns]"
      ]
     },
     "execution_count": 267,
     "metadata": {},
     "output_type": "execute_result"
    },
    {
     "data": {
      "text/html": [
       "<div>\n",
       "<style scoped>\n",
       "    .dataframe tbody tr th:only-of-type {\n",
       "        vertical-align: middle;\n",
       "    }\n",
       "\n",
       "    .dataframe tbody tr th {\n",
       "        vertical-align: top;\n",
       "    }\n",
       "\n",
       "    .dataframe thead th {\n",
       "        text-align: right;\n",
       "    }\n",
       "</style>\n",
       "<table border=\"1\" class=\"dataframe\">\n",
       "  <thead>\n",
       "    <tr style=\"text-align: right;\">\n",
       "      <th></th>\n",
       "      <th>Recovery</th>\n",
       "    </tr>\n",
       "  </thead>\n",
       "  <tbody>\n",
       "    <tr>\n",
       "      <th>0</th>\n",
       "      <td>54.926772</td>\n",
       "    </tr>\n",
       "    <tr>\n",
       "      <th>1</th>\n",
       "      <td>57.495306</td>\n",
       "    </tr>\n",
       "    <tr>\n",
       "      <th>2</th>\n",
       "      <td>53.593386</td>\n",
       "    </tr>\n",
       "    <tr>\n",
       "      <th>3</th>\n",
       "      <td>52.849863</td>\n",
       "    </tr>\n",
       "    <tr>\n",
       "      <th>4</th>\n",
       "      <td>57.261053</td>\n",
       "    </tr>\n",
       "    <tr>\n",
       "      <th>...</th>\n",
       "      <td>...</td>\n",
       "    </tr>\n",
       "    <tr>\n",
       "      <th>160</th>\n",
       "      <td>91.829365</td>\n",
       "    </tr>\n",
       "    <tr>\n",
       "      <th>161</th>\n",
       "      <td>72.501935</td>\n",
       "    </tr>\n",
       "    <tr>\n",
       "      <th>162</th>\n",
       "      <td>79.453185</td>\n",
       "    </tr>\n",
       "    <tr>\n",
       "      <th>163</th>\n",
       "      <td>87.833249</td>\n",
       "    </tr>\n",
       "    <tr>\n",
       "      <th>164</th>\n",
       "      <td>90.391584</td>\n",
       "    </tr>\n",
       "  </tbody>\n",
       "</table>\n",
       "<p>165 rows × 1 columns</p>\n",
       "</div>"
      ],
      "text/plain": [
       "      Recovery\n",
       "0    54.926772\n",
       "1    57.495306\n",
       "2    53.593386\n",
       "3    52.849863\n",
       "4    57.261053\n",
       "..         ...\n",
       "160  91.829365\n",
       "161  72.501935\n",
       "162  79.453185\n",
       "163  87.833249\n",
       "164  90.391584\n",
       "\n",
       "[165 rows x 1 columns]"
      ]
     },
     "execution_count": 267,
     "metadata": {},
     "output_type": "execute_result"
    }
   ],
   "source": [
    "### GIRDI VE CIKTILARIMIZI TANIMLAYALIM\n",
    "\n",
    "inputlarim = data[['Reagent 1, g/t', 'Reagent 2, g/t', 'Reagent 3, g/t', 'Time']]\n",
    "inputlarim\n",
    "output = data[['Recovery']]\n",
    "output"
   ]
  },
  {
   "cell_type": "code",
   "execution_count": 186,
   "id": "ed2b4ca9-8059-4bc6-9a06-b61c0fc97eab",
   "metadata": {},
   "outputs": [],
   "source": [
    "### PYTHON, MAKINE OGRENMESI KUTUPHANESINDEN (SKLEARN) LINEAR VE NONLINEAR REGRESYON MODELLERIMIZI CAGIRALIM\n",
    "from sklearn.linear_model import LinearRegression\n",
    "from sklearn import linear_model\n",
    "from sklearn.preprocessing import PolynomialFeatures"
   ]
  },
  {
   "cell_type": "code",
   "execution_count": 176,
   "id": "9bdbdb4d-6d68-48b7-912b-bd1f9919d35e",
   "metadata": {},
   "outputs": [],
   "source": [
    "### LINEAR REGRESYON MODELIMIZI EGITELIM\n",
    "my_linear_model = LinearRegression().fit(inputlarim, output)"
   ]
  },
  {
   "cell_type": "code",
   "execution_count": 177,
   "id": "d11fb50b-280f-4687-b8c4-e94291f46feb",
   "metadata": {},
   "outputs": [],
   "source": [
    "### LINEAR MODELIMIZ ILE TAHMINLERIMIZI HESAPLAYALIM\n",
    "tahmin_linear = my_linear_model.predict(inputlarim)"
   ]
  },
  {
   "cell_type": "code",
   "execution_count": 178,
   "id": "6767fa27-0138-466b-9237-be3c262338d2",
   "metadata": {},
   "outputs": [],
   "source": [
    "### GRAFIK CIZEBILMEK ICIN GEREKLI OLAN PYTHON KUTUPHANEMIZI (MATPLOTLIB) CAGIRALIM\n",
    "import matplotlib.pyplot as plt"
   ]
  },
  {
   "cell_type": "code",
   "execution_count": 193,
   "id": "4069ff55-3334-44fb-8958-a3e8b49d92f0",
   "metadata": {},
   "outputs": [
    {
     "data": {
      "image/png": "[encoded data removed]",
      "text/plain": [
       "<Figure size 432x288 with 1 Axes>"
      ]
     },
     "metadata": {
      "needs_background": "light"
     },
     "output_type": "display_data"
    }
   ],
   "source": [
    "### LINEAR MODELIMIZ ILE YAPILAN TAHMINLERIMIZI VE GERCEK DEGERLERIMIZI BIR GRAFIK UZERINDE GORSELLESTIRELIM (1:1 DOGRUSU ILE)\n",
    "plt.scatter(output, tahmin_linear)\n",
    "plt.xlabel('Actual Recovery')\n",
    "plt.ylabel('Predicted Recovery')\n",
    "plt.title('LINEAR_MODEL')\n",
    "plt.xlim(0,120)\n",
    "plt.ylim(0,120)\n",
    "plt.plot([0,120],[0,120]);"
   ]
  },
  {
   "cell_type": "code",
   "execution_count": 180,
   "id": "eb04e56b-f30a-4a72-9f15-274377f5d4a0",
   "metadata": {},
   "outputs": [
    {
     "data": {
      "text/plain": [
       "0.5132897490521637"
      ]
     },
     "execution_count": 180,
     "metadata": {},
     "output_type": "execute_result"
    }
   ],
   "source": [
    "### LINEAR MODELIMIZIN SCORU NU GORELIM\n",
    "my_linear_model.score(inputlarim,output)"
   ]
  },
  {
   "cell_type": "code",
   "execution_count": null,
   "id": "2802ea25-7ce2-4e0b-8a52-3e7e1db1d253",
   "metadata": {},
   "outputs": [],
   "source": [
    "### LINEAR MODELIMIZIN KATSAYILARINI GORELIM VE MODELIMIZI ESITLIK OLARAK YAZALIM\n",
    "from sympy import symbols, Eq\n",
    "coef = my_linear_model.coef_\n",
    "intercept = my_linear_model.intercept_\n",
    "coef, intercept"
   ]
  },
  {
   "cell_type": "code",
   "execution_count": 252,
   "id": "016673f1-2bf1-405b-bdd8-fa1316ec1a40",
   "metadata": {},
   "outputs": [
    {
     "data": {
      "text/html": [
       "<div>\n",
       "<style scoped>\n",
       "    .dataframe tbody tr th:only-of-type {\n",
       "        vertical-align: middle;\n",
       "    }\n",
       "\n",
       "    .dataframe tbody tr th {\n",
       "        vertical-align: top;\n",
       "    }\n",
       "\n",
       "    .dataframe thead th {\n",
       "        text-align: right;\n",
       "    }\n",
       "</style>\n",
       "<table border=\"1\" class=\"dataframe\">\n",
       "  <thead>\n",
       "    <tr style=\"text-align: right;\">\n",
       "      <th></th>\n",
       "      <th>Reagent 1, g/t</th>\n",
       "      <th>Reagent 2, g/t</th>\n",
       "      <th>Reagent 3, g/t</th>\n",
       "      <th>Time</th>\n",
       "      <th>Recovery</th>\n",
       "      <th>Kinetic of Cu, s^-2</th>\n",
       "      <th>Selectivity Index 1</th>\n",
       "      <th>Selectivity Index 2</th>\n",
       "      <th>tahmin_linear</th>\n",
       "    </tr>\n",
       "  </thead>\n",
       "  <tbody>\n",
       "    <tr>\n",
       "      <th>0</th>\n",
       "      <td>20</td>\n",
       "      <td>10</td>\n",
       "      <td>10</td>\n",
       "      <td>1</td>\n",
       "      <td>54.926772</td>\n",
       "      <td>0.016421</td>\n",
       "      <td>23.748974</td>\n",
       "      <td>67.162267</td>\n",
       "      <td>61.486870</td>\n",
       "    </tr>\n",
       "    <tr>\n",
       "      <th>1</th>\n",
       "      <td>30</td>\n",
       "      <td>5</td>\n",
       "      <td>15</td>\n",
       "      <td>1</td>\n",
       "      <td>57.495306</td>\n",
       "      <td>0.018548</td>\n",
       "      <td>30.805883</td>\n",
       "      <td>68.546097</td>\n",
       "      <td>63.407288</td>\n",
       "    </tr>\n",
       "    <tr>\n",
       "      <th>2</th>\n",
       "      <td>20</td>\n",
       "      <td>10</td>\n",
       "      <td>10</td>\n",
       "      <td>1</td>\n",
       "      <td>53.593386</td>\n",
       "      <td>0.016135</td>\n",
       "      <td>17.494309</td>\n",
       "      <td>69.051620</td>\n",
       "      <td>61.486870</td>\n",
       "    </tr>\n",
       "    <tr>\n",
       "      <th>3</th>\n",
       "      <td>20</td>\n",
       "      <td>10</td>\n",
       "      <td>10</td>\n",
       "      <td>1</td>\n",
       "      <td>52.849863</td>\n",
       "      <td>0.014153</td>\n",
       "      <td>20.847239</td>\n",
       "      <td>66.952455</td>\n",
       "      <td>61.486870</td>\n",
       "    </tr>\n",
       "    <tr>\n",
       "      <th>4</th>\n",
       "      <td>30</td>\n",
       "      <td>15</td>\n",
       "      <td>5</td>\n",
       "      <td>1</td>\n",
       "      <td>57.261053</td>\n",
       "      <td>0.018273</td>\n",
       "      <td>31.597608</td>\n",
       "      <td>69.764985</td>\n",
       "      <td>63.657067</td>\n",
       "    </tr>\n",
       "    <tr>\n",
       "      <th>...</th>\n",
       "      <td>...</td>\n",
       "      <td>...</td>\n",
       "      <td>...</td>\n",
       "      <td>...</td>\n",
       "      <td>...</td>\n",
       "      <td>...</td>\n",
       "      <td>...</td>\n",
       "      <td>...</td>\n",
       "      <td>...</td>\n",
       "    </tr>\n",
       "    <tr>\n",
       "      <th>160</th>\n",
       "      <td>0</td>\n",
       "      <td>120</td>\n",
       "      <td>0</td>\n",
       "      <td>30</td>\n",
       "      <td>91.829365</td>\n",
       "      <td>NaN</td>\n",
       "      <td>NaN</td>\n",
       "      <td>NaN</td>\n",
       "      <td>106.653223</td>\n",
       "    </tr>\n",
       "    <tr>\n",
       "      <th>161</th>\n",
       "      <td>0</td>\n",
       "      <td>0</td>\n",
       "      <td>10</td>\n",
       "      <td>30</td>\n",
       "      <td>72.501935</td>\n",
       "      <td>NaN</td>\n",
       "      <td>NaN</td>\n",
       "      <td>NaN</td>\n",
       "      <td>85.409898</td>\n",
       "    </tr>\n",
       "    <tr>\n",
       "      <th>162</th>\n",
       "      <td>0</td>\n",
       "      <td>0</td>\n",
       "      <td>20</td>\n",
       "      <td>30</td>\n",
       "      <td>79.453185</td>\n",
       "      <td>NaN</td>\n",
       "      <td>NaN</td>\n",
       "      <td>NaN</td>\n",
       "      <td>87.068623</td>\n",
       "    </tr>\n",
       "    <tr>\n",
       "      <th>163</th>\n",
       "      <td>0</td>\n",
       "      <td>0</td>\n",
       "      <td>40</td>\n",
       "      <td>30</td>\n",
       "      <td>87.833249</td>\n",
       "      <td>NaN</td>\n",
       "      <td>NaN</td>\n",
       "      <td>NaN</td>\n",
       "      <td>90.386073</td>\n",
       "    </tr>\n",
       "    <tr>\n",
       "      <th>164</th>\n",
       "      <td>0</td>\n",
       "      <td>0</td>\n",
       "      <td>120</td>\n",
       "      <td>30</td>\n",
       "      <td>90.391584</td>\n",
       "      <td>NaN</td>\n",
       "      <td>NaN</td>\n",
       "      <td>NaN</td>\n",
       "      <td>103.655873</td>\n",
       "    </tr>\n",
       "  </tbody>\n",
       "</table>\n",
       "<p>165 rows × 9 columns</p>\n",
       "</div>"
      ],
      "text/plain": [
       "     Reagent 1, g/t  Reagent 2, g/t  Reagent 3, g/t  Time   Recovery  \\\n",
       "0                20              10              10     1  54.926772   \n",
       "1                30               5              15     1  57.495306   \n",
       "2                20              10              10     1  53.593386   \n",
       "3                20              10              10     1  52.849863   \n",
       "4                30              15               5     1  57.261053   \n",
       "..              ...             ...             ...   ...        ...   \n",
       "160               0             120               0    30  91.829365   \n",
       "161               0               0              10    30  72.501935   \n",
       "162               0               0              20    30  79.453185   \n",
       "163               0               0              40    30  87.833249   \n",
       "164               0               0             120    30  90.391584   \n",
       "\n",
       "     Kinetic of Cu, s^-2  Selectivity Index 1  Selectivity Index 2  \\\n",
       "0               0.016421            23.748974            67.162267   \n",
       "1               0.018548            30.805883            68.546097   \n",
       "2               0.016135            17.494309            69.051620   \n",
       "3               0.014153            20.847239            66.952455   \n",
       "4               0.018273            31.597608            69.764985   \n",
       "..                   ...                  ...                  ...   \n",
       "160                  NaN                  NaN                  NaN   \n",
       "161                  NaN                  NaN                  NaN   \n",
       "162                  NaN                  NaN                  NaN   \n",
       "163                  NaN                  NaN                  NaN   \n",
       "164                  NaN                  NaN                  NaN   \n",
       "\n",
       "     tahmin_linear  \n",
       "0        61.486870  \n",
       "1        63.407288  \n",
       "2        61.486870  \n",
       "3        61.486870  \n",
       "4        63.657067  \n",
       "..             ...  \n",
       "160     106.653223  \n",
       "161      85.409898  \n",
       "162      87.068623  \n",
       "163      90.386073  \n",
       "164     103.655873  \n",
       "\n",
       "[165 rows x 9 columns]"
      ]
     },
     "execution_count": 252,
     "metadata": {},
     "output_type": "execute_result"
    }
   ],
   "source": [
    "###  EN BASTA DATA ISMIYLE TANIMLADIGIMIZ DATASETIMIZE tahmin_linear ISIMLI BIR KOLON EKLEYELIM VE BU KOLONA LINEAR MODELIMIZ \n",
    "### ILE YAPTIGIMIZ TAHMINLERIMIZI YAZDIRALIM\n",
    "\n",
    "data = data.assign(tahmin_linear=lambda tahmin: ((inputlarim['Reagent 1, g/t']*0.20453072)+(inputlarim['Reagent 2, g/t']*0.19085042)\n",
    "               +(inputlarim['Reagent 3, g/t']*0.1658725) +(inputlarim['Time']*1.03179815)+52.7972284))\n",
    "data B\n"
   ]
  },
  {
   "cell_type": "markdown",
   "id": "3063b5c2-2526-461b-a653-e0c412e539e1",
   "metadata": {},
   "source": [
    "#### SIMDI SIRA NONLINEAR REGRESYON ANALIZINDE"
   ]
  },
  {
   "cell_type": "code",
   "execution_count": 182,
   "id": "154f24a2-1861-4ae0-8116-470b160bd389",
   "metadata": {},
   "outputs": [],
   "source": [
    "### NONLINEAR REGRESYON MODELIMIZI EGITELIM\n",
    "poly_converter = PolynomialFeatures()\n",
    "\n",
    "poly_features = poly_converter.fit_transform(inputlarim)\n",
    "poly_features.shape\n",
    "\n",
    "lm=linear_model.LinearRegression()\n",
    "lm.fit(poly_features,output)"
   ]
  },
  {
   "cell_type": "code",
   "execution_count": 189,
   "id": "be7cb2d3-7c36-4468-a791-87367a13f15c",
   "metadata": {},
   "outputs": [
    {
     "data": {
      "text/plain": [
       "0.8346047333376372"
      ]
     },
     "execution_count": 189,
     "metadata": {},
     "output_type": "execute_result"
    }
   ],
   "source": [
    "### NONLINEAR MODELIMIZIN SCORU NU GORELIM\n",
    "lm.score(poly_features,output)"
   ]
  },
  {
   "cell_type": "code",
   "execution_count": 190,
   "id": "e8f48a42-e99c-4b1f-b3b9-7551a8336c43",
   "metadata": {},
   "outputs": [],
   "source": [
    "### NONLINEAR MODELIMIZ ILE TAHMINLERIMIZI HESAPLAYALIM\n",
    "poly_tahmin = lm.predict(poly_features)"
   ]
  },
  {
   "cell_type": "code",
   "execution_count": 197,
   "id": "270c823c-7abd-4611-9f54-5963b9fe5305",
   "metadata": {},
   "outputs": [
    {
     "data": {
      "text/plain": [
       "2"
      ]
     },
     "execution_count": 197,
     "metadata": {},
     "output_type": "execute_result"
    },
    {
     "data": {
      "text/plain": [
       "array([22.34546923])"
      ]
     },
     "execution_count": 197,
     "metadata": {},
     "output_type": "execute_result"
    },
    {
     "data": {
      "text/plain": [
       "array([[ 0.00000000e+00,  1.13241225e+00,  1.57566579e+00,\n",
       "         1.21068053e+00,  3.45585240e+00, -6.80642076e-03,\n",
       "        -3.27660868e-02, -2.29914709e-02, -2.21517262e-03,\n",
       "        -1.07435991e-02, -1.33953924e-02, -1.51305587e-03,\n",
       "        -7.48829594e-03, -2.68019608e-03, -7.43525064e-02]])"
      ]
     },
     "execution_count": 197,
     "metadata": {},
     "output_type": "execute_result"
    }
   ],
   "source": [
    "### NONLINEAR MODELIMIZIN KATSAYILARINI GORELIM\n",
    "poly_converter.degree\n",
    "lm.intercept_\n",
    "lm.coef_"
   ]
  },
  {
   "cell_type": "code",
   "execution_count": 192,
   "id": "4b1464d8-fefd-4241-9eaf-e76fead7d40c",
   "metadata": {},
   "outputs": [
    {
     "data": {
      "image/png": "[encoded data removed]",
      "text/plain": [
       "<Figure size 432x288 with 1 Axes>"
      ]
     },
     "metadata": {
      "needs_background": "light"
     },
     "output_type": "display_data"
    }
   ],
   "source": [
    "### NONLINEAR MODELIMIZ ILE YAPILAN TAHMINLERIMIZI VE GERCEK DEGERLERIMIZI BIR GRAFIK UZERINDE GORSELLESTIRELIM\n",
    "plt.scatter(output, poly_tahmin)\n",
    "plt.xlabel('Actual Recovery')\n",
    "plt.ylabel('Predicted Recovery')\n",
    "plt.title('POLY_MODEL')\n",
    "plt.xlim(0,120)\n",
    "plt.ylim(0,120)\n",
    "plt.plot([0,120],[0,120]);"
   ]
  },
  {
   "cell_type": "code",
   "execution_count": 199,
   "id": "8c286537-94f2-4b92-b8dd-4f192611734b",
   "metadata": {},
   "outputs": [],
   "source": [
    "### REGRESYON MODELLERI ICIN DATAMIZIN HEPSINI KULLANARAK MODELLERI EGITTIK. ANCAK ISIN DOGRUSU DATAMIZI TRAIN VE TEST OLMAK UZERE IKIYE AYIRMALIYDIK. \n",
    "### SIMDI BUNU YAPALIM. \n",
    "### AYRICA EGITME ESNASINDA MODELLERIMIZIN EN DOGRU PARAMETRELERI SECEBILMESI ICIN KFOLD CROSS VALIDATION UYGULAYALIM. \n",
    "\n",
    "from sklearn.model_selection import train_test_split, KFold, cross_val_score\n",
    "\n",
    "#input_train, output_train, input_test, output_test = train_test_split(inputlarim, output, test_size=0.20, random_state=0)"
   ]
  },
  {
   "cell_type": "code",
   "execution_count": 27,
   "id": "06eb70d2-e99e-4bab-82e9-5d196e70048d",
   "metadata": {},
   "outputs": [],
   "source": [
    "### CROSS VALIDATION ESNASINDA DATAMIZI 5 E BOLELIM. AYRICA SHUFFLE (KARISTIR) OZELLIGINI AKTIF TUTARAK HER BOLMEDE FAKLI DATA SECELIM. \n",
    "### BU MODELIMIZIN DAHA DOGRU TAHMIN YAPMASINI SAGLAYACAKTIR. \n",
    "\n",
    "cv = KFold(n_splits=5, random_state=0, shuffle=True)"
   ]
  },
  {
   "cell_type": "code",
   "execution_count": 72,
   "id": "bf71680c-06a8-4130-9e25-573fd072d84e",
   "metadata": {},
   "outputs": [
    {
     "name": "stderr",
     "output_type": "stream",
     "text": [
      "<ipython-input-72-20c9549dcb32>:4: DataConversionWarning: A column-vector y was passed when a 1d array was expected. Please change the shape of y to (n_samples,), for example using ravel().\n",
      "  modelim = random_forest_reg_model.fit(input_train, output_train)\n"
     ]
    },
    {
     "data": {
      "text/plain": [
       "array([0.63931645, 0.84662164, 0.78102346, 0.33860984, 0.7995183 ])"
      ]
     },
     "execution_count": 72,
     "metadata": {},
     "output_type": "execute_result"
    }
   ],
   "source": [
    "### MAKINE OGRENMESI MODELLERINDEN RANDOM FOREST I CAGIRALIM VE TRAIN VERIMIZ ILE EGITELIM\n",
    "from sklearn.ensemble import RandomForestRegressor\n",
    "random_forest_reg_model = RandomForestRegressor()\n",
    "scores= cross_val_score(random_forest_reg_model, input_train, output_train['Recovery'], cv=cv)\n",
    "modelim = random_forest_reg_model.fit(input_train, output_train)\n",
    "scores"
   ]
  },
  {
   "cell_type": "code",
   "execution_count": 74,
   "id": "0632a1ef-b240-4974-ae1a-19512b0beb92",
   "metadata": {},
   "outputs": [
    {
     "data": {
      "text/plain": [
       "['Random_forest_recovery_model.sav']"
      ]
     },
     "execution_count": 74,
     "metadata": {},
     "output_type": "execute_result"
    }
   ],
   "source": [
    "### EGITTIGIMIZ MODELI DAHA SONRA KULLANMAK UZERE KAYDEDELIM\n",
    "\n",
    "import joblib \n",
    "#file_name = 'Random_forest_recovery_model.sav'\n",
    "#joblib.dump(modelim, file_name)"
   ]
  },
  {
   "cell_type": "code",
   "execution_count": 254,
   "id": "7a08eda5-935a-4eed-bf53-a5516538b0e7",
   "metadata": {},
   "outputs": [
    {
     "name": "stderr",
     "output_type": "stream",
     "text": [
      "C:\\Users\\ozgea\\Anaconda3\\lib\\site-packages\\sklearn\\base.py:409: UserWarning: X does not have valid feature names, but RandomForestRegressor was fitted with feature names\n",
      "  warnings.warn(\n"
     ]
    }
   ],
   "source": [
    "### RANDOM FOREST MODELIMIZIN TEST VE TRAIN ve TUM VERI ICIN URETTIGI TAHMINLERI SAKLAYALIM \n",
    "\n",
    "tahmin_test = modelim.predict(input_test)\n",
    "\n",
    "tahmin_train = modelim.predict(input_train)\n",
    "\n",
    "tum_veri_tahmin = modelim.predict(inputlarim)"
   ]
  },
  {
   "cell_type": "code",
   "execution_count": 260,
   "id": "31b957cb-cbed-4565-9aa6-e8864a7bb985",
   "metadata": {},
   "outputs": [
    {
     "name": "stdout",
     "output_type": "stream",
     "text": [
      "test r2: 0.8910362189454073\n",
      "train r2: -9.527401455007851\n",
      "tum r2: 0.9501913566983359\n",
      "test mae: 4.713202079335948\n",
      "train mae: 51.08349604892171\n",
      "tum mae: 2.337152682142311\n",
      "test mse: 37.170974942516565\n",
      "train mse: 2887.849682987017\n",
      "tum mse: 14.342866702299519\n"
     ]
    }
   ],
   "source": [
    "#RANDOM FOREST MODELIMIZI ILE YAPILAN TAHMINLERIMIZIN DOGRULUGUNU OLCMEK ICIN METRIKLERIMIZI CAGIRALIM\n",
    "\n",
    "from sklearn.metrics import r2_score, mean_absolute_error, mean_squared_error\n",
    "\n",
    "### TEST TAHMINLERIMIZIN R2 DEGERI\n",
    "print('test r2:', r2_score(output_test, tahmin_test))\n",
    "\n",
    "### TRAIN TAHMINLERIMIZIN R2 DEGERI\n",
    "print('train r2:',r2_score(output_train, tahmin_train))\n",
    "\n",
    "### TUM TAHMINLERIMIZIN R2 DEGERI\n",
    "print('tum r2:',r2_score(output, tum_veri_tahmin))\n",
    "\n",
    "### TEST TAHMINLERIMIZIN MEAN ABS ERROR DEGERI\n",
    "print('test mae:',mean_absolute_error(output_test, tahmin_test))\n",
    "\n",
    "### TRAIN TAHMINLERIMIZIN MEAN ABS ERROR DEGERI\n",
    "print('train mae:',mean_absolute_error(output_train, tahmin_train))\n",
    "\n",
    "### TUM TAHMINLERIMIZIN MEAN ABS ERROR DEGERI\n",
    "print('tum mae:',mean_absolute_error(output, tum_veri_tahmin))\n",
    "\n",
    "### TEST TAHMINLERIMIZIN MEAN SQUARED ERROR DEGERI\n",
    "print('test mse:',mean_squared_error(output_test, tahmin_test))\n",
    "\n",
    "### TRAIN TAHMINLERIMIZIN MEAN SQUARED ERROR DEGERI\n",
    "print('train mse:',mean_squared_error(output_train, tahmin_train))\n",
    "\n",
    "### TUM TAHMINLERIMIZIN MEAN SQUARED ERROR DEGERI\n",
    "print('tum mse:',mean_squared_error(output, tum_veri_tahmin))"
   ]
  },
  {
   "cell_type": "code",
   "execution_count": 263,
   "id": "583edbed-148c-4030-80f4-df2505c4b19b",
   "metadata": {},
   "outputs": [
    {
     "data": {
      "image/png": "[encoded data removed]",
      "text/plain": [
       "<Figure size 432x288 with 1 Axes>"
      ]
     },
     "metadata": {
      "needs_background": "light"
     },
     "output_type": "display_data"
    }
   ],
   "source": [
    "### RANDOM FOREST MODELIMIZ ILE YAPILAN TAHMINLERIMIZI VE GERCEK DEGERLERIMIZI BIR GRAFIK UZERINDE GORSELLESTIRELIM\n",
    "### GRAFIKTEKI NOKTALARIMIZIN 1:1 DOGURUSUNA OLAN YAKINLIGI BIZE TAHMINLERIMIZIN NE KADAR DOGRU OLDUGUYLA ILGILI FIKIR VERIR.\n",
    "### NOKTALAR 1:1 DOGRUSUNA NE KADAR YAKINDA TAHMINLERIMIZ O KADAR BASARILIDIR. \n",
    "\n",
    "plt.scatter(output, tum_veri_tahmin)\n",
    "plt.xlabel('Actual Recovery')\n",
    "plt.ylabel('Predicted Recovery')\n",
    "plt.title('RANDOM_FOREST_MODEL TUM VERI')\n",
    "plt.xlim(0,100)\n",
    "plt.ylim(0,100)\n",
    "plt.plot([0,100],[0,100]);"
   ]
  },
  {
   "cell_type": "code",
   "execution_count": 112,
   "id": "59d0dd22-ad1a-4475-afde-137a8891c4f3",
   "metadata": {},
   "outputs": [
    {
     "data": {
      "text/plain": [
       "Index(['Reagent 1, g/t', 'Reagent 2, g/t', 'Reagent 3, g/t', 'Time'], dtype='object')"
      ]
     },
     "execution_count": 112,
     "metadata": {},
     "output_type": "execute_result"
    }
   ],
   "source": [
    "### MODELIMIZI YENI VERI UZERINDE DENEYELIM\n",
    "\n",
    "validate = pd.read_excel('mustafa_validation.xlsx')\n",
    "validate.columns"
   ]
  },
  {
   "cell_type": "code",
   "execution_count": 107,
   "id": "971c84d5-6975-4043-9389-1b010dcd7310",
   "metadata": {},
   "outputs": [
    {
     "data": {
      "text/html": [
       "<div>\n",
       "<style scoped>\n",
       "    .dataframe tbody tr th:only-of-type {\n",
       "        vertical-align: middle;\n",
       "    }\n",
       "\n",
       "    .dataframe tbody tr th {\n",
       "        vertical-align: top;\n",
       "    }\n",
       "\n",
       "    .dataframe thead th {\n",
       "        text-align: right;\n",
       "    }\n",
       "</style>\n",
       "<table border=\"1\" class=\"dataframe\">\n",
       "  <thead>\n",
       "    <tr style=\"text-align: right;\">\n",
       "      <th></th>\n",
       "      <th>tahminlerimiz</th>\n",
       "    </tr>\n",
       "  </thead>\n",
       "  <tbody>\n",
       "    <tr>\n",
       "      <th>0</th>\n",
       "      <td>58.039666</td>\n",
       "    </tr>\n",
       "    <tr>\n",
       "      <th>1</th>\n",
       "      <td>57.804952</td>\n",
       "    </tr>\n",
       "    <tr>\n",
       "      <th>2</th>\n",
       "      <td>91.394179</td>\n",
       "    </tr>\n",
       "    <tr>\n",
       "      <th>3</th>\n",
       "      <td>91.034822</td>\n",
       "    </tr>\n",
       "  </tbody>\n",
       "</table>\n",
       "</div>"
      ],
      "text/plain": [
       "   tahminlerimiz\n",
       "0      58.039666\n",
       "1      57.804952\n",
       "2      91.394179\n",
       "3      91.034822"
      ]
     },
     "execution_count": 107,
     "metadata": {},
     "output_type": "execute_result"
    }
   ],
   "source": [
    "val_tahmin = modelim.predict(validate)\n",
    "val_tahmin = pd.DataFrame(val_tahmin, columns=['tahminlerimiz'])\n",
    "val_tahmin"
   ]
  },
  {
   "cell_type": "code",
   "execution_count": 108,
   "id": "72bc45b6-7fbd-4a0c-98b3-18a973831f57",
   "metadata": {},
   "outputs": [],
   "source": [
    "validate= validate.join(val_tahmin)"
   ]
  },
  {
   "cell_type": "code",
   "execution_count": 110,
   "id": "b0cef90b-4c07-43bb-88ac-b3a42c57519a",
   "metadata": {},
   "outputs": [],
   "source": [
    "validate.to_excel('validate.xlsx')"
   ]
  },
  {
   "cell_type": "code",
   "execution_count": 113,
   "id": "ca4844a3-8ea0-4c00-8ab0-f9efce5d4d00",
   "metadata": {},
   "outputs": [
    {
     "data": {
      "text/plain": [
       "array([[ 72.46216405],\n",
       "       [ 65.05409954],\n",
       "       [102.38431028],\n",
       "       [ 94.97624577]])"
      ]
     },
     "execution_count": 113,
     "metadata": {},
     "output_type": "execute_result"
    }
   ],
   "source": [
    "linear_tahmin = linear_model.predict(validate[['Reagent 1, g/t', 'Reagent 2, g/t', 'Reagent 3, g/t', 'Time']])\n",
    "linear_tahmin"
   ]
  },
  {
   "cell_type": "code",
   "execution_count": 22,
   "id": "cead546d-f1c8-4e2c-89d5-fcdc25f3c489",
   "metadata": {},
   "outputs": [],
   "source": [
    "tahminlerim = random_forest_reg_model.predict(inputlarim)"
   ]
  },
  {
   "cell_type": "code",
   "execution_count": 23,
   "id": "62b908ae-ebe4-417c-b5f0-ca622d3fe8db",
   "metadata": {},
   "outputs": [
    {
     "data": {
      "text/plain": [
       "0.98289957937549"
      ]
     },
     "execution_count": 23,
     "metadata": {},
     "output_type": "execute_result"
    }
   ],
   "source": [
    "random_forest_reg_model.score(inputlarim,output)"
   ]
  },
  {
   "cell_type": "code",
   "execution_count": 28,
   "id": "ee2e62ee-b5e2-4cc5-a5b9-8b57814ca297",
   "metadata": {},
   "outputs": [
    {
     "data": {
      "text/plain": [
       "array([0.13792469, 0.12989075, 0.12397549, 0.60820907])"
      ]
     },
     "execution_count": 28,
     "metadata": {},
     "output_type": "execute_result"
    }
   ],
   "source": [
    "random_forest_reg_model.feature_importances_"
   ]
  },
  {
   "cell_type": "code",
   "execution_count": null,
   "id": "711036e4-8337-43a5-8fec-ff107772a9ef",
   "metadata": {},
   "outputs": [],
   "source": []
  }
 ],
 "metadata": {
  "kernelspec": {
   "display_name": "Python 3",
   "language": "python",
   "name": "python3"
  },
  "language_info": {
   "codemirror_mode": {
    "name": "ipython",
    "version": 3
   },
   "file_extension": ".py",
   "mimetype": "text/x-python",
   "name": "python",
   "nbconvert_exporter": "python",
   "pygments_lexer": "ipython3",
   "version": "3.8.8"
  }
 },
 "nbformat": 4,
 "nbformat_minor": 5
}
